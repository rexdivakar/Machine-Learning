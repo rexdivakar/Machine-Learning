{
 "cells": [
  {
   "cell_type": "markdown",
   "metadata": {},
   "source": [
    "features vs label\n",
    "features are ip\n",
    "label----- op what to find(predicition)"
   ]
  },
  {
   "cell_type": "markdown",
   "metadata": {},
   "source": [
    "load it as pandas DF"
   ]
  },
  {
   "cell_type": "raw",
   "metadata": {},
   "source": [
    "Data Cleaning\n",
    "1.info\n",
    "2.find na---fill na --- drop na3\n",
    "     categorical values---(default values)   ---------categoriacal values (not continous) #california ocean proximity\n",
    "3.convert string types to numeric\n",
    "     label binary encoder\n",
    "     one hot encoder"
   ]
  },
  {
   "cell_type": "markdown",
   "metadata": {},
   "source": [
    "Data Visualisation\n",
    "1.corelation between features and labels\n",
    "2.scatter plot,histogram\n",
    "3.decision points\n",
    "      feature engineering or not ??\n",
    "      important features ?\n",
    "      "
   ]
  },
  {
   "cell_type": "markdown",
   "metadata": {},
   "source": [
    "Dimensionality Reduction \n",
    "    PCA(explained variance) 95%"
   ]
  },
  {
   "cell_type": "markdown",
   "metadata": {},
   "source": [
    "Train test split"
   ]
  },
  {
   "cell_type": "markdown",
   "metadata": {},
   "source": [
    "Train on multiple algorithms\n",
    "    Overfitting check---cross validation"
   ]
  },
  {
   "cell_type": "markdown",
   "metadata": {},
   "source": [
    "Metrics to be evaluated\n",
    "    Confusion matrix"
   ]
  },
  {
   "cell_type": "raw",
   "metadata": {},
   "source": [
    "Choose the best algorithm and tune it using Hyper Parameter to get the best model         (GrivdSearchCV)"
   ]
  },
  {
   "cell_type": "markdown",
   "metadata": {},
   "source": [
    "Report Metrics based on Test set and save the model as .pkl file (JobLib)"
   ]
  }
 ],
 "metadata": {
  "kernelspec": {
   "display_name": "Python 3",
   "language": "python",
   "name": "python3"
  },
  "language_info": {
   "codemirror_mode": {
    "name": "ipython",
    "version": 3
   },
   "file_extension": ".py",
   "mimetype": "text/x-python",
   "name": "python",
   "nbconvert_exporter": "python",
   "pygments_lexer": "ipython3",
   "version": "3.6.3"
  }
 },
 "nbformat": 4,
 "nbformat_minor": 2
}
